{
 "cells": [
  {
   "cell_type": "markdown",
   "metadata": {
    "application/vnd.databricks.v1+cell": {
     "cellMetadata": {
      "byteLimit": 2048000,
      "rowLimit": 10000
     },
     "inputWidgets": {},
     "nuid": "de66d704-b32d-4e9d-b71b-2a5b1d2840e9",
     "showTitle": false,
     "tableResultSettingsMap": {},
     "title": ""
    }
   },
   "source": [
    "# Dim Calendário"
   ]
  },
  {
   "cell_type": "code",
   "execution_count": 0,
   "metadata": {
    "application/vnd.databricks.v1+cell": {
     "cellMetadata": {
      "byteLimit": 2048000,
      "rowLimit": 10000
     },
     "inputWidgets": {},
     "nuid": "f7a6abcf-4549-4955-86d2-ebcd414ac82f",
     "showTitle": false,
     "tableResultSettingsMap": {},
     "title": ""
    }
   },
   "outputs": [],
   "source": [
    "from pyspark.sql.functions import col, expr, lit, date_format, date_add\n",
    "from pyspark.sql.types import DateType\n",
    "from datetime import datetime\n",
    "\n",
    "data_inicio = datetime(2020, 1, 1)\n",
    "data_fim = datetime(2030, 12, 31)\n",
    "numero_dias = (data_fim - data_inicio).days + 1\n",
    "\n",
    "dim_calendario = (\n",
    "    spark.range(0, numero_dias)\n",
    "    .withColumn(\"data\", date_add(lit(data_inicio), col(\"id\").cast(\"int\")))\n",
    "    .drop(\"id\")\n",
    ")\n",
    "\n",
    "dim_calendario = (\n",
    "    dim_calendario\n",
    "    .withColumn(\"ano\", expr(\"year(data)\"))\n",
    "    .withColumn(\"mes\", expr(\"month(data)\"))\n",
    "    .withColumn(\"dia\", expr(\"day(data)\"))\n",
    "    .withColumn(\"dia_semana\", expr(\"dayofweek(data)\"))  # 1 = Domingo\n",
    "    .withColumn(\"nome_dia\", date_format(\"data\", \"EEEE\"))\n",
    "    .withColumn(\"nome_mes\", date_format(\"data\", \"MMMM\"))\n",
    "    .withColumn(\"bimestre\", expr(\"CASE WHEN month(data) <= 2 THEN 1 WHEN month(data) <= 4 THEN 2 WHEN month(data) <= 6 THEN 3 WHEN month(data) <= 8 THEN 4 WHEN month(data) <= 10 THEN 5 ELSE 6 END\"))\n",
    "    .withColumn(\"trimestre\", expr(\"quarter(data)\"))\n",
    "    .withColumn(\"quadrimestre\", expr(\"CASE WHEN month(data) <= 4 THEN 1 WHEN month(data) <= 8 THEN 2 ELSE 3 END\"))\n",
    "    .withColumn(\"semestre\", expr(\"CASE WHEN month(data) <= 6 THEN 1 ELSE 2 END\"))\n",
    ")"
   ]
  },
  {
   "cell_type": "code",
   "execution_count": 0,
   "metadata": {
    "application/vnd.databricks.v1+cell": {
     "cellMetadata": {
      "byteLimit": 2048000,
      "implicitDf": true,
      "rowLimit": 10000
     },
     "inputWidgets": {},
     "nuid": "5a5f7817-0be9-44d8-aea7-c5c2094713de",
     "showTitle": false,
     "tableResultSettingsMap": {},
     "title": ""
    }
   },
   "outputs": [],
   "source": [
    "%sql\n",
    "\n",
    "CREATE SCHEMA IF NOT EXISTS Cotacao"
   ]
  },
  {
   "cell_type": "code",
   "execution_count": 0,
   "metadata": {
    "application/vnd.databricks.v1+cell": {
     "cellMetadata": {
      "byteLimit": 2048000,
      "rowLimit": 10000
     },
     "inputWidgets": {},
     "nuid": "d6597000-6d6d-43b6-a381-98a32497a542",
     "showTitle": false,
     "tableResultSettingsMap": {},
     "title": ""
    }
   },
   "outputs": [],
   "source": [
    "dim_calendario.write \\\n",
    ".format(\"delta\") \\\n",
    ".mode(\"overwrite\") \\\n",
    ".saveAsTable(\"Cotacao.Dim_Calendario\")"
   ]
  },
  {
   "cell_type": "code",
   "execution_count": 0,
   "metadata": {
    "application/vnd.databricks.v1+cell": {
     "cellMetadata": {
      "byteLimit": 2048000,
      "implicitDf": true,
      "rowLimit": 10000
     },
     "inputWidgets": {},
     "nuid": "680a350e-9634-4ebb-8706-989a5d6ecb71",
     "showTitle": false,
     "tableResultSettingsMap": {},
     "title": ""
    }
   },
   "outputs": [],
   "source": [
    "%sql\n",
    "SELECT *\n",
    "FROM Cotacao.Dim_Calendario\n",
    "LIMIT 5"
   ]
  }
 ],
 "metadata": {
  "application/vnd.databricks.v1+notebook": {
   "computePreferences": null,
   "dashboards": [],
   "environmentMetadata": {
    "base_environment": "",
    "environment_version": "2"
   },
   "inputWidgetPreferences": null,
   "language": "python",
   "notebookMetadata": {
    "mostRecentlyExecutedCommandWithImplicitDF": {
     "commandId": 5267078434538514,
     "dataframes": [
      "_sqldf"
     ]
    },
    "pythonIndentUnit": 4
   },
   "notebookName": "0. Dim_Calendario",
   "widgets": {}
  },
  "language_info": {
   "name": "python"
  }
 },
 "nbformat": 4,
 "nbformat_minor": 0
}
