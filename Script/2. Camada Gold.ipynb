{
 "cells": [
  {
   "cell_type": "markdown",
   "metadata": {
    "application/vnd.databricks.v1+cell": {
     "cellMetadata": {},
     "inputWidgets": {},
     "nuid": "9788add5-719b-4993-a81b-fe39ffa446d1",
     "showTitle": false,
     "tableResultSettingsMap": {},
     "title": ""
    }
   },
   "source": [
    "# Camada Gold"
   ]
  },
  {
   "cell_type": "markdown",
   "metadata": {
    "application/vnd.databricks.v1+cell": {
     "cellMetadata": {},
     "inputWidgets": {},
     "nuid": "84b8486c-5f96-495a-83e8-9f3e0c3af4fb",
     "showTitle": false,
     "tableResultSettingsMap": {},
     "title": ""
    }
   },
   "source": [
    "## 1.0 Ingestão de dados"
   ]
  },
  {
   "cell_type": "markdown",
   "metadata": {
    "application/vnd.databricks.v1+cell": {
     "cellMetadata": {},
     "inputWidgets": {},
     "nuid": "b12b112a-71f1-4865-9092-d348745f5c72",
     "showTitle": false,
     "tableResultSettingsMap": {},
     "title": ""
    }
   },
   "source": [
    "### 1.1 Visualizando arquivos que estão na Camada Silver"
   ]
  },
  {
   "cell_type": "code",
   "execution_count": 0,
   "metadata": {
    "application/vnd.databricks.v1+cell": {
     "cellMetadata": {
      "byteLimit": 2048000,
      "rowLimit": 10000
     },
     "inputWidgets": {},
     "nuid": "b3e09830-19ea-4392-8c63-bbfe43d20d8c",
     "showTitle": false,
     "tableResultSettingsMap": {},
     "title": ""
    }
   },
   "outputs": [],
   "source": [
    "%fs\n",
    "ls dbfs:/mnt/Formula1/Silver"
   ]
  },
  {
   "cell_type": "markdown",
   "metadata": {
    "application/vnd.databricks.v1+cell": {
     "cellMetadata": {},
     "inputWidgets": {},
     "nuid": "8dc073bb-9959-440b-8e06-e31ceb96e450",
     "showTitle": false,
     "tableResultSettingsMap": {},
     "title": ""
    }
   },
   "source": [
    "### 1.2 Carregando os 3 arquivos parquet em DataFrames"
   ]
  },
  {
   "cell_type": "code",
   "execution_count": 0,
   "metadata": {
    "application/vnd.databricks.v1+cell": {
     "cellMetadata": {
      "byteLimit": 2048000,
      "rowLimit": 10000
     },
     "inputWidgets": {},
     "nuid": "a3d9ab69-4ab3-4c4e-b804-79cca4950a43",
     "showTitle": false,
     "tableResultSettingsMap": {},
     "title": ""
    }
   },
   "outputs": [],
   "source": [
    "driver_details_df = (spark.read.parquet(\"dbfs:/mnt/Formula1/Silver/Driver_Details.parquet/\"))\n",
    "\n",
    "race_results_df = (spark.read.parquet(\"dbfs:/mnt/Formula1/Silver/Race_Results.parquet/\"))\n"
   ]
  },
  {
   "cell_type": "markdown",
   "metadata": {
    "application/vnd.databricks.v1+cell": {
     "cellMetadata": {},
     "inputWidgets": {},
     "nuid": "d37e4911-5db5-49cb-842d-a926a7ad7357",
     "showTitle": false,
     "tableResultSettingsMap": {},
     "title": ""
    }
   },
   "source": [
    "##2.0 Modelagem de Dados"
   ]
  },
  {
   "cell_type": "markdown",
   "metadata": {
    "application/vnd.databricks.v1+cell": {
     "cellMetadata": {},
     "inputWidgets": {},
     "nuid": "40b3925e-d42c-4561-a104-a11619badaa8",
     "showTitle": false,
     "tableResultSettingsMap": {},
     "title": ""
    }
   },
   "source": [
    "### 2.1 Preparando os dados para análise"
   ]
  },
  {
   "cell_type": "code",
   "execution_count": 0,
   "metadata": {
    "application/vnd.databricks.v1+cell": {
     "cellMetadata": {
      "byteLimit": 2048000,
      "rowLimit": 10000
     },
     "inputWidgets": {},
     "nuid": "8dcae410-4f81-4443-b195-208b7baf82b3",
     "showTitle": false,
     "tableResultSettingsMap": {},
     "title": ""
    }
   },
   "outputs": [],
   "source": [
    "# Dos 20 pilotos escalados para a temporada de 2025, 16 possuem histórico de\n",
    "# corrida, vamos realizar o filtro:\n",
    "\n",
    "from pyspark.sql.functions import col\n",
    "\n",
    "pilotos_com_historico = [\n",
    "    \"hamilton\", \"max_verstappen\", \"alonso\", \"leclerc\", \"sainz\",\n",
    "    \"russell\", \"ocon\", \"gasly\", \"norris\", \"bearman\", \"stroll\",\n",
    "    \"hulkenberg\", \"lawson\", \"tsunoda\", \"piastri\", \"albon\"\n",
    "]\n",
    "\n",
    "pilotos_temporada_2025_df = driver_details_df.filter(\n",
    "    col(\"Piloto\").isin(pilotos_com_historico)\n",
    ")"
   ]
  },
  {
   "cell_type": "code",
   "execution_count": 0,
   "metadata": {
    "application/vnd.databricks.v1+cell": {
     "cellMetadata": {
      "byteLimit": 2048000,
      "rowLimit": 10000
     },
     "inputWidgets": {},
     "nuid": "6a2a7da1-6dc1-4b3c-810c-e4e1b08c9265",
     "showTitle": false,
     "tableResultSettingsMap": {},
     "title": ""
    }
   },
   "outputs": [],
   "source": [
    "# Junção entre os DataFrames pilotos_temporada_2025_df e race_results_df para análise\n",
    "\n",
    "join_pilotos_corridas_df = race_results_df.join(\n",
    "    pilotos_temporada_2025_df,\n",
    "    on=\"Piloto_Id\",\n",
    "    how=\"right\"\n",
    ")"
   ]
  },
  {
   "cell_type": "markdown",
   "metadata": {
    "application/vnd.databricks.v1+cell": {
     "cellMetadata": {},
     "inputWidgets": {},
     "nuid": "d7234f45-428a-431c-ab39-2861c38ef7f1",
     "showTitle": false,
     "tableResultSettingsMap": {},
     "title": ""
    }
   },
   "source": [
    "##3.0 Agregações e métricas"
   ]
  },
  {
   "cell_type": "markdown",
   "metadata": {
    "application/vnd.databricks.v1+cell": {
     "cellMetadata": {},
     "inputWidgets": {},
     "nuid": "c716b549-5a54-494f-8bd1-167c3e9cd9ab",
     "showTitle": false,
     "tableResultSettingsMap": {},
     "title": ""
    }
   },
   "source": [
    "### 3.1 Indice de vitórias (aproveitamento) dos pilotos. \n",
    "\n",
    "### Quantidade de corridas que o piloto participou dividida pela quantidade de vezes que ficou em primeiro lugar."
   ]
  },
  {
   "cell_type": "code",
   "execution_count": 0,
   "metadata": {
    "application/vnd.databricks.v1+cell": {
     "cellMetadata": {
      "byteLimit": 2048000,
      "rowLimit": 10000
     },
     "inputWidgets": {},
     "nuid": "be4cd411-6cc1-4f5d-a0f1-3d674369fffc",
     "showTitle": false,
     "tableResultSettingsMap": {},
     "title": ""
    }
   },
   "outputs": [],
   "source": [
    "from pyspark.sql import functions as F\n",
    "\n",
    "# Agrupando os dados por piloto e calculando o número de corridas e vitórias\n",
    "triagem_pilotos_df = join_pilotos_corridas_df.groupby(\"Piloto\").agg(\n",
    "    F.count(\"Resultado_Id\").alias(\"Nº_Corridas\"),\n",
    "    F.sum((F.col(\"Ordem_Posição\") == 1).cast(\"int\")).alias(\"Vitorias\")\n",
    ")\n",
    "\n",
    "# Calculando o índice de vitórias (%)\n",
    "triagem_pilotos_df = triagem_pilotos_df.withColumn(\n",
    "    \"Indice_Vitorias_(%)\", \n",
    "    (F.col(\"Vitorias\") / F.col(\"Nº_Corridas\")) * 100\n",
    ")\n",
    "\n",
    "# Arredondando o índice de vitórias para 2 casas decimais\n",
    "triagem_pilotos_df = triagem_pilotos_df.withColumn(\n",
    "    \"Indice_Vitorias_(%)\", \n",
    "    F.round(F.col(\"Indice_Vitorias_(%)\"), 2)\n",
    ")\n",
    "\n",
    "# Ordenando os pilotos pelo índice de vitórias de forma decrescente\n",
    "triagem_pilotos_df = triagem_pilotos_df.orderBy(\"Indice_Vitorias_(%)\", ascending=False)\n",
    "\n",
    "# Exibindo o DataFrame final\n",
    "triagem_pilotos_df.show()"
   ]
  },
  {
   "cell_type": "markdown",
   "metadata": {
    "application/vnd.databricks.v1+cell": {
     "cellMetadata": {},
     "inputWidgets": {},
     "nuid": "3ba91aac-a429-414a-9ef0-56fbc6642f17",
     "showTitle": false,
     "tableResultSettingsMap": {},
     "title": ""
    }
   },
   "source": [
    "##4.0 Tratamento final de dados"
   ]
  },
  {
   "cell_type": "markdown",
   "metadata": {
    "application/vnd.databricks.v1+cell": {
     "cellMetadata": {
      "byteLimit": 2048000,
      "rowLimit": 10000
     },
     "inputWidgets": {},
     "nuid": "fa4a5335-a80b-4fd3-98d4-87ef0eec488b",
     "showTitle": false,
     "tableResultSettingsMap": {},
     "title": ""
    }
   },
   "source": [
    "### 4.1 Coluna indicando quando os dados foram atualizados"
   ]
  }
 ],
 "metadata": {
  "application/vnd.databricks.v1+notebook": {
   "computePreferences": null,
   "dashboards": [],
   "environmentMetadata": {
    "base_environment": "",
    "environment_version": "2"
   },
   "inputWidgetPreferences": null,
   "language": "python",
   "notebookMetadata": {
    "mostRecentlyExecutedCommandWithImplicitDF": {
     "commandId": 6003197610525871,
     "dataframes": [
      "_sqldf"
     ]
    },
    "pythonIndentUnit": 4
   },
   "notebookName": "2. Camada Gold",
   "widgets": {}
  },
  "language_info": {
   "name": "python"
  }
 },
 "nbformat": 4,
 "nbformat_minor": 0
}
